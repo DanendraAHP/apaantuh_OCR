{
 "cells": [
  {
   "cell_type": "code",
   "execution_count": 1,
   "metadata": {},
   "outputs": [],
   "source": [
    "import argparse\n",
    "from pathlib import Path\n",
    "\n",
    "import yaml\n",
    "import tensorflow as tf\n",
    "from tensorflow import keras"
   ]
  },
  {
   "cell_type": "code",
   "execution_count": 10,
   "metadata": {},
   "outputs": [],
   "source": [
    "with open(\"configs\\mjsynth.yml\", \"r\") as stream:\n",
    "    try:\n",
    "        config = yaml.safe_load(stream)['dataset_builder']\n",
    "    except yaml.YAMLError as exc:\n",
    "        print(exc)"
   ]
  },
  {
   "cell_type": "code",
   "execution_count": 7,
   "metadata": {},
   "outputs": [],
   "source": [
    "def read_img_and_resize(path, shape):\n",
    "    img = tf.io.read_file(path)\n",
    "    img = tf.io.decode_jpeg(img, channels=shape[2])\n",
    "    if shape[1] is None:\n",
    "        img_shape = tf.shape(img)\n",
    "        scale_factor = shape[0] / img_shape[0]\n",
    "        img_width = scale_factor * tf.cast(img_shape[1], tf.float64)\n",
    "        img_width = tf.cast(img_width, tf.int32)\n",
    "    else:\n",
    "        img_width = shape[1]\n",
    "    img = tf.image.resize(img, (shape[0], img_width))\n",
    "    return img"
   ]
  },
  {
   "cell_type": "code",
   "execution_count": null,
   "metadata": {},
   "outputs": [],
   "source": [
    "model_path = 'models/SavedModel/'\n",
    "model = keras.models.load_model(model_path, compile=False)"
   ]
  },
  {
   "cell_type": "code",
   "execution_count": 13,
   "metadata": {},
   "outputs": [
    {
     "name": "stdout",
     "output_type": "stream",
     "text": [
      "Path: example_images\\1_Paintbrushes_55044.jpg, y_pred: [b'paintbrushes'], probability: [0.99968106]\n",
      "Path: example_images\\2_Reimbursing_64165.jpg, y_pred: [b'reimbursing'], probability: [0.9652011]\n",
      "Path: example_images\\3_Creationisms_17934.jpg, y_pred: [b'creationisms'], probability: [0.99950254]\n",
      "Path: example_images\\buku_indo.jpg, y_pred: [b'el'], probability: [0.01195347]\n",
      "Path: example_images\\google.png, y_pred: [b'corods'], probability: [0.06968009]\n",
      "Path: example_images\\Indomaret.jpg, y_pred: [b'pregal'], probability: [0.00079448]\n",
      "Path: example_images\\ok.png, y_pred: [b'ril'], probability: [0.00032522]\n",
      "Path: example_images\\stop.jpg, y_pred: [b'bne'], probability: [0.00570717]\n",
      "Path: example_images\\test_ocr.png, y_pred: [b'ga'], probability: [0.00304316]\n",
      "Path: example_images\\test_ocr2.png, y_pred: [b''], probability: [0.00152181]\n",
      "Path: example_images\\watson.jpg, y_pred: [b'fag'], probability: [0.00013475]\n",
      "Path: example_images\\watson2.jpeg, y_pred: [b'tins'], probability: [0.00918256]\n",
      "Path: example_images\\word_1.png, y_pred: [b'tiredness'], probability: [0.999931]\n",
      "Path: example_images\\word_2.png, y_pred: [b'kills'], probability: [0.9997281]\n",
      "Path: example_images\\word_3.png, y_pred: [b'a'], probability: [0.909895]\n",
      "Path: example_images\\ya.png, y_pred: [b'i'], probability: [0.0002282]\n"
     ]
    }
   ],
   "source": [
    "images = 'example_images/'\n",
    "\n",
    "p = Path(images)\n",
    "img_paths = p.iterdir() if p.is_dir() else [p]\n",
    "for img_path in img_paths:\n",
    "    img = read_img_and_resize(str(img_path), config['img_shape'])\n",
    "    img = tf.expand_dims(img, 0)\n",
    "    outputs = model(img)\n",
    "    print(f'Path: {img_path}, y_pred: {outputs[0].numpy()}, '\n",
    "          f'probability: {outputs[1].numpy()}')"
   ]
  },
  {
   "cell_type": "code",
   "execution_count": 11,
   "metadata": {},
   "outputs": [
    {
     "data": {
      "text/plain": [
       "[32, None, 3]"
      ]
     },
     "execution_count": 11,
     "metadata": {},
     "output_type": "execute_result"
    }
   ],
   "source": [
    "config['img_shape']"
   ]
  },
  {
   "cell_type": "code",
   "execution_count": null,
   "metadata": {},
   "outputs": [],
   "source": []
  }
 ],
 "metadata": {
  "kernelspec": {
   "display_name": "base",
   "language": "python",
   "name": "python3"
  },
  "language_info": {
   "codemirror_mode": {
    "name": "ipython",
    "version": 3
   },
   "file_extension": ".py",
   "mimetype": "text/x-python",
   "name": "python",
   "nbconvert_exporter": "python",
   "pygments_lexer": "ipython3",
   "version": "3.9.7"
  },
  "orig_nbformat": 4
 },
 "nbformat": 4,
 "nbformat_minor": 2
}

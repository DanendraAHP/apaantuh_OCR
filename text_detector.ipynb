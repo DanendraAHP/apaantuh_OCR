{
 "cells": [
  {
   "cell_type": "markdown",
   "metadata": {},
   "source": [
    "# With EAST"
   ]
  },
  {
   "cell_type": "code",
   "execution_count": null,
   "metadata": {},
   "outputs": [],
   "source": [
    "from imutils.object_detection import non_max_suppression\n",
    "import numpy as np\n",
    "import argparse\n",
    "import time\n",
    "import cv2\n",
    "import matplotlib.pyplot as plt"
   ]
  },
  {
   "cell_type": "code",
   "execution_count": 96,
   "metadata": {},
   "outputs": [],
   "source": [
    "img_path = '../dataset/test_ocr.png'\n",
    "east_path = '../models/frozen_east_text_detection.pb'\n",
    "min_confidence = 0.5\n",
    "width = 320#need to be multiple of 32\n",
    "height = 320#need to be multiple of 32"
   ]
  },
  {
   "cell_type": "code",
   "execution_count": 175,
   "metadata": {},
   "outputs": [],
   "source": [
    "def text_detection(img_path, east_model, min_confidence, width, height):\n",
    "    start = time.time()\n",
    "    # load the input image and grab the image dimensions\n",
    "    image = cv2.imread(img_path)\n",
    "    orig = image.copy()\n",
    "    (H, W) = image.shape[:2]\n",
    "    # set the new width and height and then determine the ratio in change\n",
    "    # for both the width and height\n",
    "    (newW, newH) = (width, height)\n",
    "    rW = W / float(newW)\n",
    "    rH = H / float(newH)\n",
    "    # resize the image and grab the new image dimensions\n",
    "    image = cv2.resize(image, (newW, newH))\n",
    "    (H, W) = image.shape[:2]\n",
    "    # define the two output layer names for the EAST detector model that\n",
    "    # we are interested -- the first is the output probabilities and the\n",
    "    # second can be used to derive the bounding box coordinates of text\n",
    "    layerNames = [\n",
    "        \"feature_fusion/Conv_7/Sigmoid\",\n",
    "        \"feature_fusion/concat_3\"]\n",
    "    # construct a blob from the image and then perform a forward pass of\n",
    "    # the model to obtain the two output layer sets\n",
    "    blob = cv2.dnn.blobFromImage(image, 1.0, (W, H),\n",
    "        (123.68, 116.78, 103.94), swapRB=True, crop=False)\n",
    "    east_model.setInput(blob)\n",
    "    (scores, geometry) = east_model.forward(layerNames)\n",
    "    # grab the number of rows and columns from the scores volume, then\n",
    "    # initialize our set of bounding box rectangles and corresponding\n",
    "    # confidence scores\n",
    "    (numRows, numCols) = scores.shape[2:4]\n",
    "    rects = []\n",
    "    confidences = []\n",
    "    # loop over the number of rows\n",
    "    for y in range(0, numRows):\n",
    "        # extract the scores (probabilities), followed by the geometrical\n",
    "        # data used to derive potential bounding box coordinates that\n",
    "        # surround text\n",
    "        scoresData = scores[0, 0, y]\n",
    "        xData0 = geometry[0, 0, y]\n",
    "        xData1 = geometry[0, 1, y]\n",
    "        xData2 = geometry[0, 2, y]\n",
    "        xData3 = geometry[0, 3, y]\n",
    "        anglesData = geometry[0, 4, y]\n",
    "        # loop over the number of columns\n",
    "        for x in range(0, numCols):\n",
    "            # if our score does not have sufficient probability, ignore it\n",
    "            if scoresData[x] < min_confidence:\n",
    "                continue\n",
    "            # compute the offset factor as our resulting feature maps will\n",
    "            # be 4x smaller than the input image\n",
    "            (offsetX, offsetY) = (x * 4.0, y * 4.0)\n",
    "            # extract the rotation angle for the prediction and then\n",
    "            # compute the sin and cosine\n",
    "            angle = anglesData[x]\n",
    "            cos = np.cos(angle)\n",
    "            sin = np.sin(angle)\n",
    "            # use the geometry volume to derive the width and height of\n",
    "            # the bounding box\n",
    "            h = xData0[x] + xData2[x]\n",
    "            w = xData1[x] + xData3[x]\n",
    "            # compute both the starting and ending (x, y)-coordinates for\n",
    "            # the text prediction bounding box\n",
    "            endX = int(offsetX + (cos * xData1[x]) + (sin * xData2[x]))\n",
    "            endY = int(offsetY - (sin * xData1[x]) + (cos * xData2[x]))\n",
    "            startX = int(endX - w)\n",
    "            startY = int(endY - h)\n",
    "            # add the bounding box coordinates and probability score to\n",
    "            # our respective lists\n",
    "            rects.append((startX, startY, endX, endY))\n",
    "            confidences.append(scoresData[x])\n",
    "    boxes = non_max_suppression(np.array(rects), probs=confidences)\n",
    "    orig_boxes = []\n",
    "    for i,(startX, startY, endX, endY) in enumerate(boxes):\n",
    "        # scale the bounding box coordinates based on the respective\n",
    "        # ratios\n",
    "        startX = int(startX * rW)\n",
    "        startY = int(startY * rH)\n",
    "        endX = int(endX * rW)\n",
    "        endY = int(endY * rH)\n",
    "        orig_boxes.append((startX, startY, endX, endY))\n",
    "    end = time.time()\n",
    "    # show timing information on text prediction\n",
    "    print(\"[INFO] text detection took {:.6f} seconds\".format(end - start))\n",
    "    return orig_boxes"
   ]
  },
  {
   "cell_type": "code",
   "execution_count": 176,
   "metadata": {},
   "outputs": [],
   "source": [
    "east_model = cv2.dnn.readNet(east_path)"
   ]
  },
  {
   "cell_type": "code",
   "execution_count": 177,
   "metadata": {},
   "outputs": [
    {
     "name": "stdout",
     "output_type": "stream",
     "text": [
      "[INFO] text detection took 0.369522 seconds\n"
     ]
    },
    {
     "data": {
      "image/png": "[encoded data removed]",
      "text/plain": [
       "<Figure size 1080x720 with 3 Axes>"
      ]
     },
     "metadata": {
      "needs_background": "light"
     },
     "output_type": "display_data"
    }
   ],
   "source": [
    "# apply non-maxima suppression to suppress weak, overlapping bounding\n",
    "# boxes\n",
    "img = cv2.imread(img_path)\n",
    "text_detection_boxes = text_detection(img_path, east_model, min_confidence, width, height)\n",
    "fig, axs = plt.subplots(nrows=1, ncols=len(text_detection_boxes), figsize=(15,10))\n",
    "for i,(startX, startY, endX, endY) in enumerate(text_detection_boxes):\n",
    "\taxs[i].imshow(img[startY:endY, startX:endX,:])"
   ]
  },
  {
   "attachments": {},
   "cell_type": "markdown",
   "metadata": {},
   "source": [
    "# Without EAST\n",
    "\n",
    "only do character recognition and combine it into one word. We need EAST to extract per word"
   ]
  },
  {
   "cell_type": "code",
   "execution_count": 9,
   "metadata": {},
   "outputs": [],
   "source": [
    "from tensorflow.keras.models import load_model\n",
    "from imutils.contours import sort_contours\n",
    "import numpy as np\n",
    "import argparse\n",
    "import imutils\n",
    "import cv2"
   ]
  },
  {
   "attachments": {},
   "cell_type": "markdown",
   "metadata": {},
   "source": [
    "make edged image"
   ]
  },
  {
   "cell_type": "code",
   "execution_count": 182,
   "metadata": {},
   "outputs": [],
   "source": [
    "def ocr(text_detection_boxes, img_path, model, model_height_inp, model_width_inp):\n",
    "\tstart = time.time()\n",
    "\t# load the input image from disk, convert it to grayscale, and blur\n",
    "\t# it to reduce noise\n",
    "\timg = cv2.imread(img_path)\n",
    "\t#result of text detection\n",
    "\t(startX, startY, endX, endY) = text_detection_boxes\n",
    "\tcropped_image =  img[startY:endY, startX:endX]\n",
    "\tgray = cv2.cvtColor(cropped_image, cv2.COLOR_BGR2GRAY)\n",
    "\tblurred = cv2.GaussianBlur(gray, (5, 5), 0)\n",
    "\t# perform edge detection, find contours in the edge map, and sort the\n",
    "\t# resulting contours from left-to-right\n",
    "\tedged = cv2.Canny(blurred, 30, 150)\n",
    "\tcnts = cv2.findContours(edged.copy(), cv2.RETR_EXTERNAL,\n",
    "\t\tcv2.CHAIN_APPROX_SIMPLE)\n",
    "\tcnts = imutils.grab_contours(cnts)\n",
    "\tcnts = sort_contours(cnts, method=\"left-to-right\")[0]\n",
    "\t# initialize the list of contour bounding boxes and associated\n",
    "\t# characters that we'll be OCR'ing\n",
    "\tchars = []\n",
    "\t# loop over the contours\n",
    "\tfor c in cnts:\n",
    "\t\t# compute the bounding box of the contour\n",
    "\t\t(x, y, w, h) = cv2.boundingRect(c)\n",
    "\t\t# filter out bounding boxes, ensuring they are neither too small\n",
    "\t\t# nor too large\n",
    "\t\tif (w >= 5 and w <= 150) and (h >= 15 and h <= 120):\n",
    "\t\t\t# extract the character and threshold it to make the character\n",
    "\t\t\t# appear as *white* (foreground) on a *black* background, then\n",
    "\t\t\t# grab the width and height of the thresholded image\n",
    "\t\t\troi = gray[y:y + h, x:x + w]\n",
    "\t\t\tthresh = cv2.threshold(roi, 0, 255,\n",
    "\t\t\t\tcv2.THRESH_BINARY_INV | cv2.THRESH_OTSU)[1]\n",
    "\t\t\t(tH, tW) = thresh.shape\n",
    "\t\t\t# if the width is greater than the height, resize along the\n",
    "\t\t\t# width dimension\n",
    "\t\t\tif tW > tH:\n",
    "\t\t\t\tthresh = imutils.resize(thresh, width=model_width_inp)\n",
    "\t\t\t# otherwise, resize along the height\n",
    "\t\t\telse:\n",
    "\t\t\t\tthresh = imutils.resize(thresh, height=model_height_inp)\n",
    "\t\t\t# re-grab the image dimensions (now that its been resized)\n",
    "\t\t\t# and then determine how much we need to pad the width and\n",
    "\t\t\t# height such that our image will be 32x32\n",
    "\t\t\t(tH, tW) = thresh.shape\n",
    "\t\t\tdX = int(max(0, 32 - tW) / 2.0)\n",
    "\t\t\tdY = int(max(0, 32 - tH) / 2.0)\n",
    "\t\t\t# pad the image and force 32x32 dimensions\n",
    "\t\t\tpadded = cv2.copyMakeBorder(thresh, top=dY, bottom=dY,\n",
    "\t\t\t\tleft=dX, right=dX, borderType=cv2.BORDER_CONSTANT,\n",
    "\t\t\t\tvalue=(0, 0, 0))\n",
    "\t\t\tpadded = cv2.resize(padded, (model_width_inp, model_height_inp))#28*28 is the model input shape\n",
    "\t\t\t# prepare the padded image for classification via our\n",
    "\t\t\t# handwriting OCR model\n",
    "\t\t\tpadded = padded.astype(\"float32\") / 255.0\n",
    "\t\t\tpadded = np.expand_dims(padded, axis=-1)\n",
    "\t\t\t# update our list of characters that will be OCR'd\n",
    "\t\t\tchars.append((padded, (x, y, w, h)))\n",
    "\t# extract the bounding box locations and padded characters\n",
    "\tboxes = [b[1] for b in chars]\n",
    "\tchars = np.array([c[0] for c in chars], dtype=\"float32\")\n",
    "\t#OCR the characters using our handwriting recognition model\n",
    "\tpreds = model.predict(chars)\n",
    "\t# define the list of label names\n",
    "\tlabelNames = \"0123456789\"\n",
    "\tlabelNames += \"ABCDEFGHIJKLMNOPQRSTUVWXYZ\"\n",
    "\tlabelNames = [l for l in labelNames]\n",
    "\t# loop over the predictions and bounding box locations together\n",
    "\ttext = \"\"\n",
    "\tfor (pred, (x, y, w, h)) in zip(preds, boxes):\n",
    "\t\t# find the index of the label with the largest corresponding\n",
    "\t\t# probability, then extract the probability and label\n",
    "\t\ti = np.argmax(pred)\n",
    "\t\tprob = pred[i]\n",
    "\t\tlabel = labelNames[i]\n",
    "\t\t#add the label\n",
    "\t\ttext+=label\n",
    "\tend = time.time()\n",
    "\tprint(f\"[INFO] time for OCR {end - start}\")\n",
    "\treturn text"
   ]
  },
  {
   "attachments": {},
   "cell_type": "markdown",
   "metadata": {},
   "source": [
    "# Pipeline to do all OCR steps"
   ]
  },
  {
   "cell_type": "code",
   "execution_count": 180,
   "metadata": {},
   "outputs": [],
   "source": [
    "model = load_model('../models/test_cnn.h5')\n",
    "east_model = cv2.dnn.readNet(east_path)\n",
    "img_path = '../dataset/test_ocr.png'\n",
    "east_path = '../models/frozen_east_text_detection.pb'\n",
    "min_confidence = 0.5\n",
    "width = 320#need to be multiple of 32\n",
    "height = 320#need to be multiple of 32\n",
    "model_height_inp = 28\n",
    "model_width_inp = 28"
   ]
  },
  {
   "cell_type": "code",
   "execution_count": 181,
   "metadata": {},
   "outputs": [
    {
     "name": "stdout",
     "output_type": "stream",
     "text": [
      "[INFO] text detection took 0.329000 seconds\n"
     ]
    },
    {
     "data": {
      "image/png": "[encoded data removed]",
      "text/plain": [
       "<Figure size 1080x720 with 3 Axes>"
      ]
     },
     "metadata": {
      "needs_background": "light"
     },
     "output_type": "display_data"
    }
   ],
   "source": [
    "# apply non-maxima suppression to suppress weak, overlapping bounding\n",
    "# boxes\n",
    "img = cv2.imread(img_path)\n",
    "text_detection_boxes = text_detection(img_path, east_model, min_confidence, width, height)\n",
    "fig, axs = plt.subplots(nrows=1, ncols=len(text_detection_boxes), figsize=(15,10))\n",
    "for i,(startX, startY, endX, endY) in enumerate(text_detection_boxes):\n",
    "\taxs[i].imshow(img[startY:endY, startX:endX,:])"
   ]
  },
  {
   "cell_type": "code",
   "execution_count": 184,
   "metadata": {},
   "outputs": [
    {
     "name": "stdout",
     "output_type": "stream",
     "text": [
      "1/1 [==============================] - 0s 15ms/step\n",
      "[INFO] time for OCR 0.07899928092956543\n",
      "COCO\n",
      "1/1 [==============================] - 0s 21ms/step\n",
      "[INFO] time for OCR 0.07500100135803223\n",
      "NCU\n",
      "1/1 [==============================] - 0s 14ms/step\n",
      "[INFO] time for OCR 0.051511287689208984\n",
      "CNNUCE\n"
     ]
    }
   ],
   "source": [
    "for box in text_detection_boxes:\n",
    "    text = ocr(box, img_path, model, model_height_inp, model_width_inp)\n",
    "    print(text)"
   ]
  },
  {
   "cell_type": "code",
   "execution_count": null,
   "metadata": {},
   "outputs": [],
   "source": []
  }
 ],
 "metadata": {
  "kernelspec": {
   "display_name": "base",
   "language": "python",
   "name": "python3"
  },
  "language_info": {
   "codemirror_mode": {
    "name": "ipython",
    "version": 3
   },
   "file_extension": ".py",
   "mimetype": "text/x-python",
   "name": "python",
   "nbconvert_exporter": "python",
   "pygments_lexer": "ipython3",
   "version": "3.9.7"
  },
  "orig_nbformat": 4,
  "vscode": {
   "interpreter": {
    "hash": "4179a95aa5b49abc81a1f9774c9389b2d4eba524b70fc2f22d886502bea2eb9d"
   }
  }
 },
 "nbformat": 4,
 "nbformat_minor": 2
}

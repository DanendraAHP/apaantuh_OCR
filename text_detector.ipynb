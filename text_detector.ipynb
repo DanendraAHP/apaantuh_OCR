{
 "cells": [
  {
   "cell_type": "code",
   "execution_count": 1,
   "metadata": {},
   "outputs": [],
   "source": [
    "from imutils.object_detection import non_max_suppression\n",
    "import numpy as np\n",
    "import argparse\n",
    "import time\n",
    "import cv2\n",
    "import matplotlib.pyplot as plt"
   ]
  },
  {
   "attachments": {},
   "cell_type": "markdown",
   "metadata": {},
   "source": [
    "# Utils"
   ]
  },
  {
   "cell_type": "code",
   "execution_count": null,
   "metadata": {},
   "outputs": [],
   "source": [
    "def post_process_text(text):\n",
    "    text = text.lower()\n",
    "    pattern = re.compile('[\\W_]+')\n",
    "    text = pattern.sub('', text)\n",
    "    return text"
   ]
  },
  {
   "cell_type": "code",
   "execution_count": 71,
   "metadata": {},
   "outputs": [],
   "source": [
    "def crop_img(image, box):\n",
    "    startX, startY, endX, endY = box\n",
    "    return image[startY:endY, startX:endX,:]"
   ]
  },
  {
   "cell_type": "code",
   "execution_count": null,
   "metadata": {},
   "outputs": [],
   "source": [
    "def show_image(image, text):\n",
    "    cv2.imshow(text, image)\n",
    "    cv2.waitKey(0)\n",
    "    cv2.destroyAllWindows()"
   ]
  },
  {
   "attachments": {},
   "cell_type": "markdown",
   "metadata": {},
   "source": [
    "# Text Detection With EAST"
   ]
  },
  {
   "cell_type": "code",
   "execution_count": 3,
   "metadata": {},
   "outputs": [],
   "source": [
    "def text_detection_correction(**kwarg):\n",
    "    #startX correction\n",
    "    if kwarg['startX']<0:\n",
    "        startX=0\n",
    "    else:\n",
    "        startX = kwarg['startX']\n",
    "    #startY correction\n",
    "    if kwarg['startY']<0:\n",
    "        startY=0\n",
    "    else:\n",
    "        startY = kwarg['startY']\n",
    "    #endX correction\n",
    "    if kwarg['endX']>kwarg['W']:\n",
    "        endX=0\n",
    "    else:\n",
    "        endX = kwarg['endX']\n",
    "    #endY correction\n",
    "    if kwarg['endY']>kwarg['H']:\n",
    "        endY=0\n",
    "    else:\n",
    "        endY = kwarg['endY']\n",
    "    return (startX, startY, endX, endY)"
   ]
  },
  {
   "cell_type": "code",
   "execution_count": 4,
   "metadata": {},
   "outputs": [],
   "source": [
    "def text_detection(image, east_model, min_confidence, width, height):\n",
    "    start = time.time()\n",
    "    # load the input image and grab the image dimensions\n",
    "    orig = image.copy()\n",
    "    (H, W) = image.shape[:2]\n",
    "    # set the new width and height and then determine the ratio in change\n",
    "    # for both the width and height\n",
    "    (newW, newH) = (width, height)\n",
    "    rW = W / float(newW)\n",
    "    rH = H / float(newH)\n",
    "    # resize the image and grab the new image dimensions\n",
    "    image = cv2.resize(image, (newW, newH))\n",
    "    (H, W) = image.shape[:2]\n",
    "    # define the two output layer names for the EAST detector model that\n",
    "    # we are interested -- the first is the output probabilities and the\n",
    "    # second can be used to derive the bounding box coordinates of text\n",
    "    layerNames = [\n",
    "        \"feature_fusion/Conv_7/Sigmoid\",\n",
    "        \"feature_fusion/concat_3\"]\n",
    "    # construct a blob from the image and then perform a forward pass of\n",
    "    # the model to obtain the two output layer sets\n",
    "    blob = cv2.dnn.blobFromImage(image, 1.0, (W, H),\n",
    "        (123.68, 116.78, 103.94), swapRB=True, crop=False)\n",
    "    east_model.setInput(blob)\n",
    "    (scores, geometry) = east_model.forward(layerNames)\n",
    "    # grab the number of rows and columns from the scores volume, then\n",
    "    # initialize our set of bounding box rectangles and corresponding\n",
    "    # confidence scores\n",
    "    (numRows, numCols) = scores.shape[2:4]\n",
    "    rects = []\n",
    "    confidences = []\n",
    "    # loop over the number of rows\n",
    "    for y in range(0, numRows):\n",
    "        # extract the scores (probabilities), followed by the geometrical\n",
    "        # data used to derive potential bounding box coordinates that\n",
    "        # surround text\n",
    "        scoresData = scores[0, 0, y]\n",
    "        xData0 = geometry[0, 0, y]\n",
    "        xData1 = geometry[0, 1, y]\n",
    "        xData2 = geometry[0, 2, y]\n",
    "        xData3 = geometry[0, 3, y]\n",
    "        anglesData = geometry[0, 4, y]\n",
    "        # loop over the number of columns\n",
    "        for x in range(0, numCols):\n",
    "            # if our score does not have sufficient probability, ignore it\n",
    "            if scoresData[x] < min_confidence:\n",
    "                continue\n",
    "            # compute the offset factor as our resulting feature maps will\n",
    "            # be 4x smaller than the input image\n",
    "            (offsetX, offsetY) = (x * 4.0, y * 4.0)\n",
    "            # extract the rotation angle for the prediction and then\n",
    "            # compute the sin and cosine\n",
    "            angle = anglesData[x]\n",
    "            cos = np.cos(angle)\n",
    "            sin = np.sin(angle)\n",
    "            # use the geometry volume to derive the width and height of\n",
    "            # the bounding box\n",
    "            h = xData0[x] + xData2[x]\n",
    "            w = xData1[x] + xData3[x]\n",
    "            # compute both the starting and ending (x, y)-coordinates for\n",
    "            # the text prediction bounding box\n",
    "            endX = int(offsetX + (cos * xData1[x]) + (sin * xData2[x]))\n",
    "            endY = int(offsetY - (sin * xData1[x]) + (cos * xData2[x]))\n",
    "            startX = int(endX - w)\n",
    "            startY = int(endY - h)\n",
    "            # add the bounding box coordinates and probability score to\n",
    "            # our respective lists\n",
    "            (startX, startY, endX, endY) = text_detection_correction(\n",
    "                startX=startX, startY=startY, endX=endX, endY=endY, H=H, W=W\n",
    "            )\n",
    "            rects.append((startX, startY, endX, endY))\n",
    "            confidences.append(scoresData[x])\n",
    "    boxes = non_max_suppression(np.array(rects), probs=confidences)\n",
    "    orig_boxes = []\n",
    "    for i,(startX, startY, endX, endY) in enumerate(boxes):\n",
    "        # scale the bounding box coordinates based on the respective\n",
    "        # ratios\n",
    "        startX = int(startX * rW)\n",
    "        startY = int(startY * rH)\n",
    "        endX = int(endX * rW)\n",
    "        endY = int(endY * rH)\n",
    "        orig_boxes.append((startX, startY, endX, endY))\n",
    "    end = time.time()\n",
    "    # show timing information on text prediction\n",
    "    print(\"[INFO] text detection took {:.6f} seconds\".format(end - start))\n",
    "    return orig_boxes"
   ]
  },
  {
   "cell_type": "code",
   "execution_count": 23,
   "metadata": {},
   "outputs": [],
   "source": [
    "def show_detected_img(img, boxes):\n",
    "    fig, axs = plt.subplots(nrows=1, ncols=len(boxes), figsize=(15,10))\n",
    "    for i,(startX, startY, endX, endY) in enumerate(boxes):\n",
    "        if len(boxes)==1:\n",
    "            axs.imshow(img[startY:endY, startX:endX,:])\n",
    "        else:\n",
    "            axs[i].imshow(img[startY:endY, startX:endX,:])"
   ]
  },
  {
   "cell_type": "code",
   "execution_count": 60,
   "metadata": {},
   "outputs": [],
   "source": [
    "img_path = 'dataset/test_ocr.png'\n",
    "east_path = 'models/frozen_east_text_detection.pb'\n",
    "min_confidence = 0.5\n",
    "east_width = 320#need to be multiple of 32\n",
    "east_height = 320#need to be multiple of 32"
   ]
  },
  {
   "cell_type": "code",
   "execution_count": 61,
   "metadata": {},
   "outputs": [],
   "source": [
    "east_model = cv2.dnn.readNet(east_path)"
   ]
  },
  {
   "cell_type": "code",
   "execution_count": 34,
   "metadata": {},
   "outputs": [
    {
     "name": "stdout",
     "output_type": "stream",
     "text": [
      "[INFO] text detection took 0.122251 seconds\n"
     ]
    },
    {
     "data": {
      "image/png": "[encoded data removed]",
      "text/plain": [
       "<Figure size 1080x720 with 3 Axes>"
      ]
     },
     "metadata": {
      "needs_background": "light"
     },
     "output_type": "display_data"
    }
   ],
   "source": [
    "img_path = 'example_images/test_ocr.png'\n",
    "img = cv2.imread(img_path)\n",
    "text_detection_boxes = text_detection(img, east_model, min_confidence, width, height)\n",
    "fig, axs = plt.subplots(nrows=1, ncols=len(text_detection_boxes), figsize=(15,10))\n",
    "for i,(startX, startY, endX, endY) in enumerate(text_detection_boxes):\n",
    "\tif len(text_detection_boxes)==1:\n",
    "\t\taxs.imshow(img[startY:endY, startX:endX,:])\n",
    "\telse:\n",
    "\t\taxs[i].imshow(img[startY:endY, startX:endX,:])"
   ]
  },
  {
   "attachments": {},
   "cell_type": "markdown",
   "metadata": {},
   "source": [
    "# OCR Per-word With pytesseract"
   ]
  },
  {
   "cell_type": "code",
   "execution_count": 5,
   "metadata": {},
   "outputs": [],
   "source": [
    "import pytesseract\n",
    "from PIL import Image\n",
    "import re\n",
    "import string"
   ]
  },
  {
   "cell_type": "code",
   "execution_count": 6,
   "metadata": {},
   "outputs": [],
   "source": [
    "#init with tesseract exe file location\n",
    "pytesseract.pytesseract.tesseract_cmd = r\"C:\\Program Files\\Tesseract-OCR\\tesseract.exe\""
   ]
  },
  {
   "cell_type": "code",
   "execution_count": 7,
   "metadata": {},
   "outputs": [],
   "source": [
    "def preprocess_img(img):\n",
    "    img = cv2.cvtColor(img, cv2.COLOR_BGR2LAB)\n",
    "    return img"
   ]
  },
  {
   "cell_type": "code",
   "execution_count": null,
   "metadata": {},
   "outputs": [],
   "source": []
  },
  {
   "cell_type": "code",
   "execution_count": 19,
   "metadata": {},
   "outputs": [],
   "source": [
    "def ocr_with_tesseract(**kwarg):\n",
    "    start = time.time()\n",
    "    text_detection_boxes =  text_detection(kwarg['img'], kwarg['east_model'], kwarg['min_confidence'], kwarg['width'], kwarg['height'])\n",
    "    configuration = kwarg['tesseract_config']\n",
    "    texts=[]\n",
    "    for (startX, startY, endX, endY) in (text_detection_boxes):\n",
    "        try:\n",
    "            text = pytesseract.image_to_string(img[startY:endY, startX:endX], config=configuration).split()[0]\n",
    "            text = post_process_text(text)\n",
    "            texts.append(text)\n",
    "        except:\n",
    "            texts.append(\"\")\n",
    "    texts = \" \".join(texts)\n",
    "    end = time.time()\n",
    "    print(texts)\n",
    "    print(f'[INFO] OCR with tesseract took {end-start} seconds')\n",
    "    "
   ]
  },
  {
   "cell_type": "code",
   "execution_count": 16,
   "metadata": {},
   "outputs": [],
   "source": [
    "#init only run once\n",
    "img_path = 'dataset/indomaret.jpg'\n",
    "east_path = 'models/frozen_east_text_detection.pb'\n",
    "min_confidence = 0.5\n",
    "width = 320#need to be multiple of 32\n",
    "height = 320#need to be multiple of 32\n",
    "tesseract_config =(\"-l ind --oem 1 --psm 8\")\n",
    "east_model = cv2.dnn.readNet(east_path)"
   ]
  },
  {
   "cell_type": "code",
   "execution_count": 20,
   "metadata": {},
   "outputs": [
    {
     "name": "stdout",
     "output_type": "stream",
     "text": [
      "[INFO] text detection took 0.146303 seconds\n",
      "google\n",
      "[INFO] OCR with tesseract took 0.2593197822570801 seconds\n"
     ]
    }
   ],
   "source": [
    "img_path = 'example_images/google.png'\n",
    "img = cv2.imread(img_path)\n",
    "ocr_with_tesseract(img=img, east_model=east_model, min_confidence=min_confidence, width=width, height=height, tesseract_config = tesseract_config)"
   ]
  },
  {
   "cell_type": "code",
   "execution_count": 24,
   "metadata": {},
   "outputs": [
    {
     "name": "stdout",
     "output_type": "stream",
     "text": [
      "[INFO] text detection took 0.144491 seconds\n",
      "perguru urikulum jindonesif bahasa ideas kuliah tinggi mata nanas gn herman  5 wanib ar penulis sayamal  i 1 n malabar\n",
      "[INFO] OCR with tesseract took 2.5204367637634277 seconds\n"
     ]
    }
   ],
   "source": [
    "img_path = 'example_images/buku_indo.jpg'\n",
    "img = cv2.imread(img_path)\n",
    "ocr_with_tesseract(img=img, east_model=east_model, min_confidence=min_confidence, width=width, height=height, tesseract_config = tesseract_config)"
   ]
  },
  {
   "cell_type": "code",
   "execution_count": 25,
   "metadata": {},
   "outputs": [
    {
     "name": "stdout",
     "output_type": "stream",
     "text": [
      "[INFO] text detection took 0.125521 seconds\n",
      "wolsons  sd\n",
      "[INFO] OCR with tesseract took 0.4130668640136719 seconds\n"
     ]
    }
   ],
   "source": [
    "img_path = 'example_images/watson.jpg'\n",
    "img = cv2.imread(img_path)\n",
    "ocr_with_tesseract(img=img, east_model=east_model, min_confidence=min_confidence, width=width, height=height, tesseract_config = tesseract_config)"
   ]
  },
  {
   "attachments": {},
   "cell_type": "markdown",
   "metadata": {},
   "source": [
    "# Using CRNN"
   ]
  },
  {
   "cell_type": "code",
   "execution_count": 31,
   "metadata": {},
   "outputs": [],
   "source": [
    "import argparse\n",
    "from pathlib import Path\n",
    "\n",
    "import yaml\n",
    "import tensorflow as tf\n",
    "from tensorflow import keras"
   ]
  },
  {
   "cell_type": "code",
   "execution_count": 38,
   "metadata": {},
   "outputs": [],
   "source": [
    "def read_img_and_resize(img, shape):\n",
    "    # img = tf.io.read_file(path)\n",
    "    # img = tf.io.decode_jpeg(img, channels=shape[2])\n",
    "    if shape[1] is None:\n",
    "        img_shape = tf.shape(img)\n",
    "        scale_factor = shape[0] / img_shape[0]\n",
    "        img_width = scale_factor * tf.cast(img_shape[1], tf.float64)\n",
    "        img_width = tf.cast(img_width, tf.int32)\n",
    "    else:\n",
    "        img_width = shape[1]\n",
    "    img = tf.image.resize(img, (shape[0], img_width))\n",
    "    return img"
   ]
  },
  {
   "cell_type": "code",
   "execution_count": 78,
   "metadata": {},
   "outputs": [],
   "source": [
    "def tf_model_inference(model, img):\n",
    "    outputs = model(img)\n",
    "    text, prob = outputs[0].numpy()[0].decode(\"utf-8\") , outputs[1].numpy()[0]\n",
    "    if prob<0.5:\n",
    "        text = \"\"\n",
    "    return text"
   ]
  },
  {
   "cell_type": "code",
   "execution_count": 81,
   "metadata": {},
   "outputs": [],
   "source": [
    "def ocr_with_crnn(**kwarg):\n",
    "    start = time.time()\n",
    "    text_detection_boxes =  text_detection(kwarg['img'], kwarg['east_model'], kwarg['min_confidence'], \n",
    "                                           kwarg['east_width'], kwarg['east_height'])\n",
    "    texts = []\n",
    "    for box in text_detection_boxes:\n",
    "        cropped_img = crop_img(img, box)\n",
    "        cropped_img = read_img_and_resize(cropped_img, kwarg['config']['img_shape'])\n",
    "        cropped_img = tf.expand_dims(cropped_img, 0)\n",
    "        text = tf_model_inference(kwarg['tf_model'], cropped_img)\n",
    "        text = post_process_text(text)\n",
    "        texts.append(text)\n",
    "    end = time.time()\n",
    "    print(f'OCR with CRNN took {end-start} seconds')\n",
    "    return \" \".join(texts)"
   ]
  },
  {
   "cell_type": "code",
   "execution_count": null,
   "metadata": {},
   "outputs": [],
   "source": [
    "with open(\"configs\\mjsynth.yml\", \"r\") as stream:\n",
    "    try:\n",
    "        config = yaml.safe_load(stream)['dataset_builder']\n",
    "    except yaml.YAMLError as exc:\n",
    "        print(exc)"
   ]
  },
  {
   "cell_type": "code",
   "execution_count": 57,
   "metadata": {},
   "outputs": [],
   "source": [
    "model_path = 'models/SavedModel/'\n",
    "crnn = keras.models.load_model(model_path, compile=False)"
   ]
  },
  {
   "cell_type": "code",
   "execution_count": 83,
   "metadata": {},
   "outputs": [
    {
     "name": "stdout",
     "output_type": "stream",
     "text": [
      "[INFO] text detection took 0.166114 seconds\n",
      "OCR with CRNN took 1.7352619171142578 seconds\n",
      "perguru urikulum indonesic bahosa ideas kuhah tinggil    herman   warib  penulis sayama imoh  idakian  amalabar\n"
     ]
    }
   ],
   "source": [
    "img_path = 'example_images/buku_indo.jpg'\n",
    "img = cv2.imread(img_path)\n",
    "texts = ocr_with_crnn(\n",
    "    img=img, east_model=east_model, min_confidence=min_confidence, east_width=east_width, east_height=east_height,\n",
    "    config = config, tf_model = crnn\n",
    ")\n",
    "print(texts)"
   ]
  },
  {
   "attachments": {},
   "cell_type": "markdown",
   "metadata": {},
   "source": [
    "# OCR per Character with TFModel\n",
    "\n",
    "only do character recognition and combine it into one word. We need EAST to extract per word"
   ]
  },
  {
   "cell_type": "code",
   "execution_count": 26,
   "metadata": {},
   "outputs": [
    {
     "name": "stdout",
     "output_type": "stream",
     "text": [
      "WARNING:tensorflow:`input_shape` is undefined or non-square, or `rows` is not in [96, 128, 160, 192, 224]. Weights for input shape (224, 224) will be loaded as the default.\n"
     ]
    }
   ],
   "source": [
    "from src.model import OCRModel\n",
    "from imutils.contours import sort_contours\n",
    "import numpy as np\n",
    "import argparse\n",
    "import imutils\n",
    "import cv2\n",
    "import tensorflow as tf"
   ]
  },
  {
   "cell_type": "code",
   "execution_count": 27,
   "metadata": {},
   "outputs": [],
   "source": []
  },
  {
   "cell_type": "code",
   "execution_count": 28,
   "metadata": {},
   "outputs": [],
   "source": [
    "def ocr_per_word(image, model_input_shape):\n",
    "    gray = cv2.cvtColor(image, cv2.COLOR_BGR2GRAY)\n",
    "    blurred = cv2.GaussianBlur(gray, (5, 5), 0)\n",
    "    # perform edge detection, find contours in the edge map, and sort the\n",
    "    # resulting contours from left-to-right\n",
    "    edged = cv2.Canny(blurred, 30, 150)\n",
    "    contours, hierarchy  = cv2.findContours(edged, cv2.RETR_EXTERNAL, cv2.CHAIN_APPROX_SIMPLE)\n",
    "    #combine contour and hierarchy for sorting\n",
    "    cnts = []\n",
    "    cnts.append(contours)\n",
    "    cnts.append(hierarchy)\n",
    "    cnts = tuple(cnts)\n",
    "    #sort contours\n",
    "    cnts = imutils.grab_contours(cnts)\n",
    "    cnts = sort_contours(cnts, method=\"left-to-right\")[0]\n",
    "    #crop image based on contours\n",
    "    chars = []\n",
    "    areas=[]\n",
    "    for i in range(0,len(cnts)):\n",
    "        area=cv2.contourArea(cnts[i])\n",
    "        areas.append(area)\n",
    "        #if( area<20000 and area>5000):\n",
    "        x,y,w,h= cv2.boundingRect(cnts[i])\n",
    "        cropped_img=image[y:y+h, x:x+w]\n",
    "        cropped_img = cropped_img.astype(\"float32\")/255\n",
    "        cropped_img = cv2.resize(cropped_img, model_input_shape)\n",
    "        chars.append(cropped_img)\n",
    "    return np.asarray(chars), np.asarray(areas)"
   ]
  },
  {
   "cell_type": "code",
   "execution_count": 29,
   "metadata": {},
   "outputs": [],
   "source": [
    "def model_inference(chars, model):\n",
    "    labelNames = \"0123456789\"\n",
    "    labelNames += \"ABCDEFGHIJKLMNOPQRSTUVWXYZ\"\n",
    "    labelNames = [l for l in labelNames]\n",
    "    preds = model.model.predict(chars)\n",
    "    text=\"\"\n",
    "    label_idx = []\n",
    "    for i,pred in enumerate(preds):\n",
    "        pred_max = np.max(pred)\n",
    "        if pred_max>0.6:\n",
    "            label = labelNames[np.argmax(pred)]\n",
    "            text+= label\n",
    "            label_idx.append(i)\n",
    "    return text, label_idx"
   ]
  },
  {
   "cell_type": "code",
   "execution_count": 30,
   "metadata": {},
   "outputs": [
    {
     "ename": "ValueError",
     "evalue": "Exception encountered when calling layer \"conv2d_29\" \"                 f\"(type Conv2D).\n\nNegative dimension size caused by subtracting 3 from 1 for '{{node inception_v3/conv2d_29/Conv2D}} = Conv2D[T=DT_FLOAT, data_format=\"NHWC\", dilations=[1, 1, 1, 1], explicit_paddings=[], padding=\"VALID\", strides=[1, 2, 2, 1], use_cudnn_on_gpu=true](inception_v3/activation_28/Relu, inception_v3/conv2d_29/Conv2D/ReadVariableOp)' with input shapes: [?,1,1,96], [3,3,96,96].\n\nCall arguments received by layer \"conv2d_29\" \"                 f\"(type Conv2D):\n  • inputs=tf.Tensor(shape=(None, 1, 1, 96), dtype=float32)",
     "output_type": "error",
     "traceback": [
      "\u001b[1;31m---------------------------------------------------------------------------\u001b[0m",
      "\u001b[1;31mValueError\u001b[0m                                Traceback (most recent call last)",
      "\u001b[1;32m~\\AppData\\Local\\Temp/ipykernel_24128/2254969244.py\u001b[0m in \u001b[0;36m<module>\u001b[1;34m\u001b[0m\n\u001b[0;32m      3\u001b[0m \u001b[0mocr_model_path\u001b[0m \u001b[1;33m=\u001b[0m \u001b[1;34m'models/mobilenet_0/cp.ckpt'\u001b[0m\u001b[1;33m\u001b[0m\u001b[1;33m\u001b[0m\u001b[0m\n\u001b[0;32m      4\u001b[0m \u001b[0mmodel\u001b[0m \u001b[1;33m=\u001b[0m \u001b[0mOCRModel\u001b[0m\u001b[1;33m(\u001b[0m\u001b[1;36m3\u001b[0m\u001b[1;33m)\u001b[0m\u001b[1;33m\u001b[0m\u001b[1;33m\u001b[0m\u001b[0m\n\u001b[1;32m----> 5\u001b[1;33m \u001b[0mmodel\u001b[0m\u001b[1;33m.\u001b[0m\u001b[0mload\u001b[0m\u001b[1;33m(\u001b[0m\u001b[0mmodel_type\u001b[0m\u001b[1;33m=\u001b[0m\u001b[1;34m'mobilenet'\u001b[0m\u001b[1;33m,\u001b[0m \u001b[0mmodel_path\u001b[0m\u001b[1;33m=\u001b[0m\u001b[0mocr_model_path\u001b[0m\u001b[1;33m)\u001b[0m\u001b[1;33m\u001b[0m\u001b[1;33m\u001b[0m\u001b[0m\n\u001b[0m\u001b[0;32m      6\u001b[0m \u001b[0meast_model\u001b[0m \u001b[1;33m=\u001b[0m \u001b[0mcv2\u001b[0m\u001b[1;33m.\u001b[0m\u001b[0mdnn\u001b[0m\u001b[1;33m.\u001b[0m\u001b[0mreadNet\u001b[0m\u001b[1;33m(\u001b[0m\u001b[0meast_path\u001b[0m\u001b[1;33m)\u001b[0m\u001b[1;33m\u001b[0m\u001b[1;33m\u001b[0m\u001b[0m\n\u001b[0;32m      7\u001b[0m \u001b[0mmin_confidence\u001b[0m \u001b[1;33m=\u001b[0m \u001b[1;36m0.5\u001b[0m\u001b[1;33m\u001b[0m\u001b[1;33m\u001b[0m\u001b[0m\n",
      "\u001b[1;32md:\\Kuliah\\S2\\PPT\\OCR\\src\\model.py\u001b[0m in \u001b[0;36mload\u001b[1;34m(self, model_type, model_path)\u001b[0m\n\u001b[0;32m     74\u001b[0m         \u001b[0mstart\u001b[0m \u001b[1;33m=\u001b[0m \u001b[0mtime\u001b[0m\u001b[1;33m.\u001b[0m\u001b[0mtime\u001b[0m\u001b[1;33m(\u001b[0m\u001b[1;33m)\u001b[0m\u001b[1;33m\u001b[0m\u001b[1;33m\u001b[0m\u001b[0m\n\u001b[0;32m     75\u001b[0m         \u001b[0mself\u001b[0m\u001b[1;33m.\u001b[0m\u001b[0mmodel_type\u001b[0m \u001b[1;33m=\u001b[0m \u001b[0mmodel_type\u001b[0m\u001b[1;33m\u001b[0m\u001b[1;33m\u001b[0m\u001b[0m\n\u001b[1;32m---> 76\u001b[1;33m         \u001b[0mself\u001b[0m\u001b[1;33m.\u001b[0m\u001b[0mcreate_model\u001b[0m\u001b[1;33m(\u001b[0m\u001b[1;33m)\u001b[0m\u001b[1;33m\u001b[0m\u001b[1;33m\u001b[0m\u001b[0m\n\u001b[0m\u001b[0;32m     77\u001b[0m         \u001b[0mself\u001b[0m\u001b[1;33m.\u001b[0m\u001b[0mmodel\u001b[0m\u001b[1;33m.\u001b[0m\u001b[0mload_weights\u001b[0m\u001b[1;33m(\u001b[0m\u001b[0mmodel_path\u001b[0m\u001b[1;33m)\u001b[0m\u001b[1;33m\u001b[0m\u001b[1;33m\u001b[0m\u001b[0m\n\u001b[0;32m     78\u001b[0m         \u001b[0mend\u001b[0m \u001b[1;33m=\u001b[0m \u001b[0mtime\u001b[0m\u001b[1;33m.\u001b[0m\u001b[0mtime\u001b[0m\u001b[1;33m(\u001b[0m\u001b[1;33m)\u001b[0m\u001b[1;33m\u001b[0m\u001b[1;33m\u001b[0m\u001b[0m\n",
      "\u001b[1;32md:\\Kuliah\\S2\\PPT\\OCR\\src\\model.py\u001b[0m in \u001b[0;36mcreate_model\u001b[1;34m(self)\u001b[0m\n\u001b[0;32m     38\u001b[0m             \u001b[0minputs\u001b[0m \u001b[1;33m=\u001b[0m \u001b[0mtf\u001b[0m\u001b[1;33m.\u001b[0m\u001b[0mkeras\u001b[0m\u001b[1;33m.\u001b[0m\u001b[0mInput\u001b[0m\u001b[1;33m(\u001b[0m\u001b[0mshape\u001b[0m\u001b[1;33m=\u001b[0m\u001b[1;33m(\u001b[0m\u001b[0mDATASET_CONFIG\u001b[0m\u001b[1;33m[\u001b[0m\u001b[1;34m'IMG_WIDTH'\u001b[0m\u001b[1;33m]\u001b[0m\u001b[1;33m,\u001b[0m \u001b[0mDATASET_CONFIG\u001b[0m\u001b[1;33m[\u001b[0m\u001b[1;34m'IMG_HEIGHT'\u001b[0m\u001b[1;33m]\u001b[0m\u001b[1;33m,\u001b[0m \u001b[0mDATASET_CONFIG\u001b[0m\u001b[1;33m[\u001b[0m\u001b[1;34m'NUM_CHANNEL'\u001b[0m\u001b[1;33m]\u001b[0m\u001b[1;33m)\u001b[0m\u001b[1;33m)\u001b[0m\u001b[1;33m\u001b[0m\u001b[1;33m\u001b[0m\u001b[0m\n\u001b[0;32m     39\u001b[0m             \u001b[0mx\u001b[0m \u001b[1;33m=\u001b[0m \u001b[0mself\u001b[0m\u001b[1;33m.\u001b[0m\u001b[0mpreprocess_input\u001b[0m\u001b[1;33m(\u001b[0m\u001b[0minputs\u001b[0m\u001b[1;33m)\u001b[0m\u001b[1;33m\u001b[0m\u001b[1;33m\u001b[0m\u001b[0m\n\u001b[1;32m---> 40\u001b[1;33m             \u001b[0mx\u001b[0m \u001b[1;33m=\u001b[0m \u001b[0mself\u001b[0m\u001b[1;33m.\u001b[0m\u001b[0mbase_model\u001b[0m\u001b[1;33m(\u001b[0m\u001b[0mx\u001b[0m\u001b[1;33m)\u001b[0m\u001b[1;33m\u001b[0m\u001b[1;33m\u001b[0m\u001b[0m\n\u001b[0m\u001b[0;32m     41\u001b[0m             \u001b[0mx\u001b[0m \u001b[1;33m=\u001b[0m \u001b[0mglobal_average_layer\u001b[0m\u001b[1;33m(\u001b[0m\u001b[0mx\u001b[0m\u001b[1;33m)\u001b[0m\u001b[1;33m\u001b[0m\u001b[1;33m\u001b[0m\u001b[0m\n\u001b[0;32m     42\u001b[0m             \u001b[0mx\u001b[0m \u001b[1;33m=\u001b[0m \u001b[0mtf\u001b[0m\u001b[1;33m.\u001b[0m\u001b[0mkeras\u001b[0m\u001b[1;33m.\u001b[0m\u001b[0mlayers\u001b[0m\u001b[1;33m.\u001b[0m\u001b[0mDropout\u001b[0m\u001b[1;33m(\u001b[0m\u001b[1;36m0.2\u001b[0m\u001b[1;33m)\u001b[0m\u001b[1;33m(\u001b[0m\u001b[0mx\u001b[0m\u001b[1;33m)\u001b[0m\u001b[1;33m\u001b[0m\u001b[1;33m\u001b[0m\u001b[0m\n",
      "\u001b[1;32mc:\\Users\\danendra\\anaconda3\\lib\\site-packages\\keras\\utils\\traceback_utils.py\u001b[0m in \u001b[0;36merror_handler\u001b[1;34m(*args, **kwargs)\u001b[0m\n\u001b[0;32m     68\u001b[0m             \u001b[1;31m# To get the full stack trace, call:\u001b[0m\u001b[1;33m\u001b[0m\u001b[1;33m\u001b[0m\u001b[0m\n\u001b[0;32m     69\u001b[0m             \u001b[1;31m# `tf.debugging.disable_traceback_filtering()`\u001b[0m\u001b[1;33m\u001b[0m\u001b[1;33m\u001b[0m\u001b[0m\n\u001b[1;32m---> 70\u001b[1;33m             \u001b[1;32mraise\u001b[0m \u001b[0me\u001b[0m\u001b[1;33m.\u001b[0m\u001b[0mwith_traceback\u001b[0m\u001b[1;33m(\u001b[0m\u001b[0mfiltered_tb\u001b[0m\u001b[1;33m)\u001b[0m \u001b[1;32mfrom\u001b[0m \u001b[1;32mNone\u001b[0m\u001b[1;33m\u001b[0m\u001b[1;33m\u001b[0m\u001b[0m\n\u001b[0m\u001b[0;32m     71\u001b[0m         \u001b[1;32mfinally\u001b[0m\u001b[1;33m:\u001b[0m\u001b[1;33m\u001b[0m\u001b[1;33m\u001b[0m\u001b[0m\n\u001b[0;32m     72\u001b[0m             \u001b[1;32mdel\u001b[0m \u001b[0mfiltered_tb\u001b[0m\u001b[1;33m\u001b[0m\u001b[1;33m\u001b[0m\u001b[0m\n",
      "\u001b[1;32mc:\\Users\\danendra\\anaconda3\\lib\\site-packages\\tensorflow\\python\\framework\\ops.py\u001b[0m in \u001b[0;36m_create_c_op\u001b[1;34m(graph, node_def, inputs, control_inputs, op_def, extract_traceback)\u001b[0m\n\u001b[0;32m   1967\u001b[0m   \u001b[1;32mexcept\u001b[0m \u001b[0merrors\u001b[0m\u001b[1;33m.\u001b[0m\u001b[0mInvalidArgumentError\u001b[0m \u001b[1;32mas\u001b[0m \u001b[0me\u001b[0m\u001b[1;33m:\u001b[0m\u001b[1;33m\u001b[0m\u001b[1;33m\u001b[0m\u001b[0m\n\u001b[0;32m   1968\u001b[0m     \u001b[1;31m# Convert to ValueError for backwards compatibility.\u001b[0m\u001b[1;33m\u001b[0m\u001b[1;33m\u001b[0m\u001b[0m\n\u001b[1;32m-> 1969\u001b[1;33m     \u001b[1;32mraise\u001b[0m \u001b[0mValueError\u001b[0m\u001b[1;33m(\u001b[0m\u001b[0me\u001b[0m\u001b[1;33m.\u001b[0m\u001b[0mmessage\u001b[0m\u001b[1;33m)\u001b[0m\u001b[1;33m\u001b[0m\u001b[1;33m\u001b[0m\u001b[0m\n\u001b[0m\u001b[0;32m   1970\u001b[0m \u001b[1;33m\u001b[0m\u001b[0m\n\u001b[0;32m   1971\u001b[0m   \u001b[1;31m# Record the current Python stack trace as the creating stacktrace of this\u001b[0m\u001b[1;33m\u001b[0m\u001b[1;33m\u001b[0m\u001b[0m\n",
      "\u001b[1;31mValueError\u001b[0m: Exception encountered when calling layer \"conv2d_29\" \"                 f\"(type Conv2D).\n\nNegative dimension size caused by subtracting 3 from 1 for '{{node inception_v3/conv2d_29/Conv2D}} = Conv2D[T=DT_FLOAT, data_format=\"NHWC\", dilations=[1, 1, 1, 1], explicit_paddings=[], padding=\"VALID\", strides=[1, 2, 2, 1], use_cudnn_on_gpu=true](inception_v3/activation_28/Relu, inception_v3/conv2d_29/Conv2D/ReadVariableOp)' with input shapes: [?,1,1,96], [3,3,96,96].\n\nCall arguments received by layer \"conv2d_29\" \"                 f\"(type Conv2D):\n  • inputs=tf.Tensor(shape=(None, 1, 1, 96), dtype=float32)"
     ]
    }
   ],
   "source": [
    "img_path = 'dataset/test_ocr.png'\n",
    "east_path = 'models/frozen_east_text_detection.pb'\n",
    "ocr_model_path = 'models/mobilenet_0/cp.ckpt'\n",
    "model = OCRModel(3)\n",
    "model.load(model_type='mobilenet', model_path=ocr_model_path)\n",
    "east_model = cv2.dnn.readNet(east_path)\n",
    "min_confidence = 0.5\n",
    "width = 320#need to be multiple of 32\n",
    "height = 320#need to be multiple of 32\n",
    "model_height_inp = 32\n",
    "model_width_inp = 32\n",
    "ocr_threshold = 0.7"
   ]
  },
  {
   "attachments": {},
   "cell_type": "markdown",
   "metadata": {},
   "source": [
    "Define the model"
   ]
  },
  {
   "cell_type": "code",
   "execution_count": 55,
   "metadata": {},
   "outputs": [
    {
     "name": "stdout",
     "output_type": "stream",
     "text": [
      "[INFO] initializing model took 1.4924838542938232 seconds\n",
      "[INFO] loading the model took 5.496660947799683 seconds\n"
     ]
    }
   ],
   "source": [
    "model = OCRModel(1)\n",
    "model.load(model_type='efficientnet', model_path='models/efficientnet_0/cp.ckpt')"
   ]
  },
  {
   "attachments": {},
   "cell_type": "markdown",
   "metadata": {},
   "source": [
    "Do the OCR"
   ]
  },
  {
   "cell_type": "code",
   "execution_count": 14,
   "metadata": {},
   "outputs": [
    {
     "name": "stdout",
     "output_type": "stream",
     "text": [
      "[INFO] text detection took 0.144526 seconds\n"
     ]
    },
    {
     "ename": "NameError",
     "evalue": "name 'crop_img' is not defined",
     "output_type": "error",
     "traceback": [
      "\u001b[1;31m---------------------------------------------------------------------------\u001b[0m",
      "\u001b[1;31mNameError\u001b[0m                                 Traceback (most recent call last)",
      "\u001b[1;32m~\\AppData\\Local\\Temp/ipykernel_24128/1309554351.py\u001b[0m in \u001b[0;36m<module>\u001b[1;34m\u001b[0m\n\u001b[0;32m      8\u001b[0m \u001b[0mtexts\u001b[0m \u001b[1;33m=\u001b[0m \u001b[1;34m\"\"\u001b[0m\u001b[1;33m\u001b[0m\u001b[1;33m\u001b[0m\u001b[0m\n\u001b[0;32m      9\u001b[0m \u001b[1;32mfor\u001b[0m \u001b[0mbox\u001b[0m \u001b[1;32min\u001b[0m \u001b[0mtext_detection_boxes\u001b[0m\u001b[1;33m:\u001b[0m\u001b[1;33m\u001b[0m\u001b[1;33m\u001b[0m\u001b[0m\n\u001b[1;32m---> 10\u001b[1;33m     \u001b[0mcropped\u001b[0m \u001b[1;33m=\u001b[0m \u001b[0mcrop_img\u001b[0m\u001b[1;33m(\u001b[0m\u001b[0mimage\u001b[0m\u001b[1;33m,\u001b[0m \u001b[0mbox\u001b[0m\u001b[1;33m)\u001b[0m\u001b[1;33m\u001b[0m\u001b[1;33m\u001b[0m\u001b[0m\n\u001b[0m\u001b[0;32m     11\u001b[0m     \u001b[0mchars\u001b[0m\u001b[1;33m,\u001b[0m\u001b[0m_\u001b[0m \u001b[1;33m=\u001b[0m \u001b[0mocr_per_word\u001b[0m\u001b[1;33m(\u001b[0m\u001b[0mcropped\u001b[0m\u001b[1;33m,\u001b[0m \u001b[0mmodel_input_shape\u001b[0m\u001b[1;33m)\u001b[0m\u001b[1;33m\u001b[0m\u001b[1;33m\u001b[0m\u001b[0m\n\u001b[0;32m     12\u001b[0m     \u001b[0mtext\u001b[0m\u001b[1;33m,\u001b[0m \u001b[0mlabel_idx\u001b[0m \u001b[1;33m=\u001b[0m \u001b[0mmodel_inference\u001b[0m\u001b[1;33m(\u001b[0m\u001b[0mchars\u001b[0m\u001b[1;33m,\u001b[0m \u001b[0mmodel\u001b[0m\u001b[1;33m)\u001b[0m\u001b[1;33m\u001b[0m\u001b[1;33m\u001b[0m\u001b[0m\n",
      "\u001b[1;31mNameError\u001b[0m: name 'crop_img' is not defined"
     ]
    }
   ],
   "source": [
    "#config\n",
    "model_input_shape = (32,32)\n",
    "img_path = 'example_images/test_ocr2.png'\n",
    "#text detection\n",
    "image = cv2.imread(img_path)\n",
    "text_detection_boxes = text_detection(image, east_model, min_confidence, width, height)\n",
    "#ocr per character\n",
    "texts = \"\"\n",
    "for box in text_detection_boxes:\n",
    "    cropped = crop_img(image, box)\n",
    "    chars,_ = ocr_per_word(cropped, model_input_shape)\n",
    "    text, label_idx = model_inference(chars, model)\n",
    "    texts+=f'{text} '"
   ]
  },
  {
   "attachments": {},
   "cell_type": "markdown",
   "metadata": {},
   "source": [
    "kalau mau satu2"
   ]
  },
  {
   "cell_type": "code",
   "execution_count": 181,
   "metadata": {},
   "outputs": [
    {
     "name": "stdout",
     "output_type": "stream",
     "text": [
      "[INFO] text detection took 0.110951 seconds\n",
      "1/1 [==============================] - 0s 29ms/step\n",
      "CC\n"
     ]
    }
   ],
   "source": [
    "#config\n",
    "model_input_shape = (32,32)\n",
    "img_path = 'example_images/test_ocr2.png'\n",
    "#text detection\n",
    "image = cv2.imread(img_path)\n",
    "text_detection_boxes = text_detection(image, east_model, min_confidence, width, height)\n",
    "box = text_detection_boxes[0]\n",
    "cropped = crop_img(image, box)\n",
    "chars,areas = ocr_per_word(cropped, model_input_shape)\n",
    "text, label_idx = model_inference(chars, model)\n",
    "print(text)"
   ]
  },
  {
   "cell_type": "code",
   "execution_count": 175,
   "metadata": {},
   "outputs": [
    {
     "data": {
      "image/png": "[encoded data removed]",
      "text/plain": [
       "<Figure size 1080x720 with 3 Axes>"
      ]
     },
     "metadata": {
      "needs_background": "light"
     },
     "output_type": "display_data"
    }
   ],
   "source": [
    "fig, axs = plt.subplots(ncols=len(label_idx), nrows=1, figsize=(15,10))\n",
    "for i in range(len(label_idx)):\n",
    "    axs[i].imshow(chars[label_idx[i]])\n",
    "    axs[i].set_title(areas[label_idx[i]])\n",
    "    axs[i].axis('off')"
   ]
  },
  {
   "cell_type": "code",
   "execution_count": 178,
   "metadata": {},
   "outputs": [
    {
     "data": {
      "image/png": "[encoded data removed]",
      "text/plain": [
       "<Figure size 1080x720 with 6 Axes>"
      ]
     },
     "metadata": {
      "needs_background": "light"
     },
     "output_type": "display_data"
    }
   ],
   "source": [
    "fig, axs = plt.subplots(ncols=len(label_idx), nrows=1, figsize=(15,10))\n",
    "for i in range(len(label_idx)):\n",
    "    axs[i].imshow(chars[label_idx[i]])\n",
    "    axs[i].set_title(areas[label_idx[i]])\n",
    "    axs[i].axis('off')"
   ]
  },
  {
   "cell_type": "code",
   "execution_count": 146,
   "metadata": {},
   "outputs": [
    {
     "data": {
      "image/png": "[encoded data removed]",
      "text/plain": [
       "<Figure size 432x288 with 4 Axes>"
      ]
     },
     "metadata": {
      "needs_background": "light"
     },
     "output_type": "display_data"
    }
   ],
   "source": [
    "fig, axs = plt.subplots(ncols=len(chars), nrows=1)\n",
    "for i in range(len(chars)):\n",
    "    axs[i].imshow(chars[i])\n",
    "    axs[i].set_title(areas[i])\n",
    "    axs[i].axis('off')"
   ]
  },
  {
   "cell_type": "code",
   "execution_count": 151,
   "metadata": {},
   "outputs": [
    {
     "data": {
      "image/png": "[encoded data removed]",
      "text/plain": [
       "<Figure size 432x288 with 6 Axes>"
      ]
     },
     "metadata": {
      "needs_background": "light"
     },
     "output_type": "display_data"
    }
   ],
   "source": [
    "fig, axs = plt.subplots(ncols=len(chars), nrows=1)\n",
    "for i in range(len(chars)):\n",
    "    axs[i].imshow(chars[i])\n",
    "    axs[i].set_title(areas[i])\n",
    "    axs[i].axis('off')"
   ]
  },
  {
   "cell_type": "code",
   "execution_count": 150,
   "metadata": {},
   "outputs": [
    {
     "data": {
      "image/png": "[encoded data removed]",
      "text/plain": [
       "<Figure size 432x288 with 6 Axes>"
      ]
     },
     "metadata": {
      "needs_background": "light"
     },
     "output_type": "display_data"
    }
   ],
   "source": [
    "fig, axs = plt.subplots(ncols=len(chars), nrows=1)\n",
    "for i in range(len(chars)):\n",
    "    axs[i].imshow(chars[i])\n",
    "    axs[i].set_title(areas[i])"
   ]
  },
  {
   "cell_type": "code",
   "execution_count": 79,
   "metadata": {},
   "outputs": [],
   "source": [
    "gray = cv2.cvtColor(cropped, cv2.COLOR_BGR2GRAY)\n",
    "blurred = cv2.GaussianBlur(gray, (5, 5), 0)\n",
    "# perform edge detection, find contours in the edge map, and sort the\n",
    "# resulting contours from left-to-right\n",
    "edged = cv2.Canny(blurred, 30, 150)\n",
    "contours, hierarchy  = cv2.findContours(edged, cv2.RETR_EXTERNAL, cv2.CHAIN_APPROX_SIMPLE)"
   ]
  },
  {
   "cell_type": "code",
   "execution_count": 89,
   "metadata": {},
   "outputs": [
    {
     "data": {
      "text/plain": [
       "<matplotlib.image.AxesImage at 0x1a99a46e160>"
      ]
     },
     "execution_count": 89,
     "metadata": {},
     "output_type": "execute_result"
    },
    {
     "data": {
      "image/png": "[encoded data removed]",
      "text/plain": [
       "<Figure size 432x288 with 1 Axes>"
      ]
     },
     "metadata": {
      "needs_background": "light"
     },
     "output_type": "display_data"
    }
   ],
   "source": [
    "img_copy = cropped.copy()\n",
    "img_copy=cv2.drawContours(img_copy, contours, 5, (0,255,0), 3)\n",
    "plt.imshow(img_copy)"
   ]
  },
  {
   "cell_type": "code",
   "execution_count": 83,
   "metadata": {},
   "outputs": [
    {
     "data": {
      "text/plain": [
       "6"
      ]
     },
     "execution_count": 83,
     "metadata": {},
     "output_type": "execute_result"
    }
   ],
   "source": [
    "len(contours)"
   ]
  },
  {
   "cell_type": "code",
   "execution_count": null,
   "metadata": {},
   "outputs": [],
   "source": []
  }
 ],
 "metadata": {
  "kernelspec": {
   "display_name": "base",
   "language": "python",
   "name": "python3"
  },
  "language_info": {
   "codemirror_mode": {
    "name": "ipython",
    "version": 3
   },
   "file_extension": ".py",
   "mimetype": "text/x-python",
   "name": "python",
   "nbconvert_exporter": "python",
   "pygments_lexer": "ipython3",
   "version": "3.9.7"
  },
  "orig_nbformat": 4,
  "vscode": {
   "interpreter": {
    "hash": "4179a95aa5b49abc81a1f9774c9389b2d4eba524b70fc2f22d886502bea2eb9d"
   }
  }
 },
 "nbformat": 4,
 "nbformat_minor": 2
}
